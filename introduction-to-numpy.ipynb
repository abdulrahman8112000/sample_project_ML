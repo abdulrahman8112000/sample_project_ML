{
 "cells": [
  {
   "cell_type": "code",
   "execution_count": 1,
   "id": "459507d9",
   "metadata": {},
   "outputs": [],
   "source": [
    "import numpy as np"
   ]
  },
  {
   "cell_type": "code",
   "execution_count": 2,
   "id": "69f62389",
   "metadata": {},
   "outputs": [
    {
     "data": {
      "text/plain": [
       "array([1, 2, 3])"
      ]
     },
     "execution_count": 2,
     "metadata": {},
     "output_type": "execute_result"
    }
   ],
   "source": [
    "a1=np.array([1,2,3])\n",
    "a1"
   ]
  },
  {
   "cell_type": "code",
   "execution_count": 3,
   "id": "b5dd50b1",
   "metadata": {},
   "outputs": [
    {
     "data": {
      "text/plain": [
       "array([[[1, 2, 3]]])"
      ]
     },
     "execution_count": 3,
     "metadata": {},
     "output_type": "execute_result"
    }
   ],
   "source": [
    "a2=np.array([[\n",
    "    [1,2,3],\n",
    "             ]])\n",
    "a2"
   ]
  },
  {
   "cell_type": "code",
   "execution_count": 4,
   "id": "5450cfe9",
   "metadata": {},
   "outputs": [
    {
     "data": {
      "text/plain": [
       "(3,)"
      ]
     },
     "execution_count": 4,
     "metadata": {},
     "output_type": "execute_result"
    }
   ],
   "source": [
    "a1.shape\n"
   ]
  },
  {
   "cell_type": "code",
   "execution_count": 5,
   "id": "999c4539",
   "metadata": {},
   "outputs": [
    {
     "data": {
      "text/plain": [
       "1"
      ]
     },
     "execution_count": 5,
     "metadata": {},
     "output_type": "execute_result"
    }
   ],
   "source": [
    "a1.ndim"
   ]
  },
  {
   "cell_type": "code",
   "execution_count": 6,
   "id": "c2cac77d",
   "metadata": {},
   "outputs": [
    {
     "data": {
      "text/plain": [
       "array([[1, 2, 3],\n",
       "       [4, 5, 6]])"
      ]
     },
     "execution_count": 6,
     "metadata": {},
     "output_type": "execute_result"
    }
   ],
   "source": [
    "a2=np.array([[1,2,3],\n",
    "             [4,5,6]\n",
    "            ])\n",
    "a2"
   ]
  },
  {
   "cell_type": "code",
   "execution_count": 7,
   "id": "145dccee",
   "metadata": {},
   "outputs": [
    {
     "data": {
      "text/html": [
       "<div>\n",
       "<style scoped>\n",
       "    .dataframe tbody tr th:only-of-type {\n",
       "        vertical-align: middle;\n",
       "    }\n",
       "\n",
       "    .dataframe tbody tr th {\n",
       "        vertical-align: top;\n",
       "    }\n",
       "\n",
       "    .dataframe thead th {\n",
       "        text-align: right;\n",
       "    }\n",
       "</style>\n",
       "<table border=\"1\" class=\"dataframe\">\n",
       "  <thead>\n",
       "    <tr style=\"text-align: right;\">\n",
       "      <th></th>\n",
       "      <th>0</th>\n",
       "      <th>1</th>\n",
       "      <th>2</th>\n",
       "    </tr>\n",
       "  </thead>\n",
       "  <tbody>\n",
       "    <tr>\n",
       "      <th>0</th>\n",
       "      <td>1</td>\n",
       "      <td>2</td>\n",
       "      <td>3</td>\n",
       "    </tr>\n",
       "    <tr>\n",
       "      <th>1</th>\n",
       "      <td>4</td>\n",
       "      <td>5</td>\n",
       "      <td>6</td>\n",
       "    </tr>\n",
       "  </tbody>\n",
       "</table>\n",
       "</div>"
      ],
      "text/plain": [
       "   0  1  2\n",
       "0  1  2  3\n",
       "1  4  5  6"
      ]
     },
     "execution_count": 7,
     "metadata": {},
     "output_type": "execute_result"
    }
   ],
   "source": [
    "#create a dataframe ffrom numpy array\n",
    "import pandas as pd\n",
    "df=pd.DataFrame(a2)\n",
    "df"
   ]
  },
  {
   "cell_type": "code",
   "execution_count": 28,
   "id": "dc42ea98",
   "metadata": {},
   "outputs": [
    {
     "name": "stderr",
     "output_type": "stream",
     "text": [
      "/var/folders/mp/hk05nn2x3x5b_s2b069qfsgc0000gn/T/ipykernel_30681/1128490844.py:1: VisibleDeprecationWarning: Creating an ndarray from ragged nested sequences (which is a list-or-tuple of lists-or-tuples-or ndarrays with different lengths or shapes) is deprecated. If you meant to do this, you must specify 'dtype=object' when creating the ndarray.\n",
      "  a3=np.array([\n"
     ]
    },
    {
     "data": {
      "text/plain": [
       "3"
      ]
     },
     "execution_count": 28,
     "metadata": {},
     "output_type": "execute_result"
    }
   ],
   "source": [
    "a3=np.array([\n",
    "    [\n",
    "     [[1,7],2,3],\n",
    "     [4,5,6]\n",
    "    ]\n",
    "])\n",
    "a3.ndim"
   ]
  },
  {
   "cell_type": "code",
   "execution_count": 10,
   "id": "e6b16e36",
   "metadata": {},
   "outputs": [
    {
     "data": {
      "text/plain": [
       "array([[0., 0., 0.],\n",
       "       [0., 0., 0.]])"
      ]
     },
     "execution_count": 10,
     "metadata": {},
     "output_type": "execute_result"
    }
   ],
   "source": [
    "zeros=np.zeros((2,3))\n",
    "zeros"
   ]
  },
  {
   "cell_type": "code",
   "execution_count": 12,
   "id": "c22a8ce0",
   "metadata": {},
   "outputs": [
    {
     "data": {
      "text/plain": [
       "array([0, 2, 4, 6, 8])"
      ]
     },
     "execution_count": 12,
     "metadata": {},
     "output_type": "execute_result"
    }
   ],
   "source": [
    "range_array=np.arange(0,10,2)\n",
    "range_array"
   ]
  },
  {
   "cell_type": "code",
   "execution_count": 22,
   "id": "c500dc86",
   "metadata": {},
   "outputs": [
    {
     "data": {
      "text/plain": [
       "array([[9, 4, 0, 1, 9],\n",
       "       [0, 1, 8, 9, 0],\n",
       "       [8, 6, 4, 3, 0]])"
      ]
     },
     "execution_count": 22,
     "metadata": {},
     "output_type": "execute_result"
    }
   ],
   "source": [
    "np.random.seed(seed=10)\n",
    "random_array=np.random.randint(0,10,size=(3,5))\n",
    "random_array"
   ]
  },
  {
   "cell_type": "code",
   "execution_count": 16,
   "id": "c130ead1",
   "metadata": {},
   "outputs": [
    {
     "data": {
      "text/plain": [
       "array([[0.81123778, 0.49815322, 0.36273743, 0.87858452, 0.16354632],\n",
       "       [0.54858183, 0.77579319, 0.79319598, 0.59148774, 0.58845281],\n",
       "       [0.46498755, 0.55265161, 0.48963299, 0.40752211, 0.89619473]])"
      ]
     },
     "execution_count": 16,
     "metadata": {},
     "output_type": "execute_result"
    }
   ],
   "source": [
    "random_array_2=np.random.random((3,5))\n",
    "random_array_2"
   ]
  },
  {
   "cell_type": "markdown",
   "id": "404933dc",
   "metadata": {},
   "source": [
    "## Viewing arrays and matrices"
   ]
  },
  {
   "cell_type": "code",
   "execution_count": 23,
   "id": "c349ec12",
   "metadata": {},
   "outputs": [
    {
     "data": {
      "text/plain": [
       "array([1, 2, 3])"
      ]
     },
     "execution_count": 23,
     "metadata": {},
     "output_type": "execute_result"
    }
   ],
   "source": [
    "np.unique(a1)"
   ]
  },
  {
   "cell_type": "code",
   "execution_count": 24,
   "id": "9a05d570",
   "metadata": {},
   "outputs": [
    {
     "data": {
      "text/plain": [
       "1"
      ]
     },
     "execution_count": 24,
     "metadata": {},
     "output_type": "execute_result"
    }
   ],
   "source": [
    "a1[0]"
   ]
  },
  {
   "cell_type": "code",
   "execution_count": 25,
   "id": "a6891939",
   "metadata": {},
   "outputs": [
    {
     "data": {
      "text/plain": [
       "array([1, 2, 3])"
      ]
     },
     "execution_count": 25,
     "metadata": {},
     "output_type": "execute_result"
    }
   ],
   "source": [
    "a2[0]"
   ]
  },
  {
   "cell_type": "code",
   "execution_count": 26,
   "id": "f3bbd792",
   "metadata": {},
   "outputs": [
    {
     "data": {
      "text/plain": [
       "array([4, 5, 6])"
      ]
     },
     "execution_count": 26,
     "metadata": {},
     "output_type": "execute_result"
    }
   ],
   "source": [
    "a2[1]"
   ]
  },
  {
   "cell_type": "code",
   "execution_count": 27,
   "id": "168ce481",
   "metadata": {},
   "outputs": [
    {
     "data": {
      "text/plain": [
       "array([[list([1]), 2, 3],\n",
       "       [4, 5, 6]], dtype=object)"
      ]
     },
     "execution_count": 27,
     "metadata": {},
     "output_type": "execute_result"
    }
   ],
   "source": [
    "a3[0]"
   ]
  },
  {
   "cell_type": "code",
   "execution_count": 29,
   "id": "e2d3d2df",
   "metadata": {},
   "outputs": [
    {
     "data": {
      "text/plain": [
       "array([[[[4, 6, 8, 1, 8],\n",
       "         [4, 1, 3, 6, 5],\n",
       "         [3, 9, 6, 9, 1],\n",
       "         [9, 4, 2, 6, 7]],\n",
       "\n",
       "        [[8, 8, 9, 2, 0],\n",
       "         [6, 7, 8, 1, 7],\n",
       "         [1, 4, 0, 8, 5],\n",
       "         [4, 7, 8, 8, 2]],\n",
       "\n",
       "        [[6, 2, 8, 8, 6],\n",
       "         [6, 5, 6, 0, 0],\n",
       "         [6, 9, 1, 8, 9],\n",
       "         [1, 2, 8, 9, 9]]],\n",
       "\n",
       "\n",
       "       [[[5, 0, 2, 7, 3],\n",
       "         [0, 4, 2, 0, 3],\n",
       "         [3, 1, 2, 5, 9],\n",
       "         [0, 1, 0, 1, 9]],\n",
       "\n",
       "        [[0, 9, 2, 1, 1],\n",
       "         [0, 0, 5, 9, 0],\n",
       "         [4, 6, 6, 0, 2],\n",
       "         [3, 3, 2, 6, 0]],\n",
       "\n",
       "        [[5, 1, 3, 6, 5],\n",
       "         [5, 1, 8, 0, 5],\n",
       "         [9, 8, 5, 7, 8],\n",
       "         [5, 8, 9, 9, 1]]]])"
      ]
     },
     "execution_count": 29,
     "metadata": {},
     "output_type": "execute_result"
    }
   ],
   "source": [
    "a4=np.random.randint(0,10,size=(2,3,4,5))\n",
    "a4"
   ]
  },
  {
   "cell_type": "code",
   "execution_count": 30,
   "id": "29ee819d",
   "metadata": {},
   "outputs": [
    {
     "data": {
      "text/plain": [
       "array([[[[4, 6],\n",
       "         [4, 1]],\n",
       "\n",
       "        [[8, 8],\n",
       "         [6, 7]]],\n",
       "\n",
       "\n",
       "       [[[5, 0],\n",
       "         [0, 4]],\n",
       "\n",
       "        [[0, 9],\n",
       "         [0, 0]]]])"
      ]
     },
     "execution_count": 30,
     "metadata": {},
     "output_type": "execute_result"
    }
   ],
   "source": [
    "a4[:2,:2,:2,:2]"
   ]
  },
  {
   "cell_type": "code",
   "execution_count": 33,
   "id": "84e940b6",
   "metadata": {},
   "outputs": [
    {
     "data": {
      "text/plain": [
       "array([[[[4, 6, 8, 1, 8],\n",
       "         [4, 1, 3, 6, 5],\n",
       "         [3, 9, 6, 9, 1],\n",
       "         [9, 4, 2, 6, 7]],\n",
       "\n",
       "        [[8, 8, 9, 2, 0],\n",
       "         [6, 7, 8, 1, 7],\n",
       "         [1, 4, 0, 8, 5],\n",
       "         [4, 7, 8, 8, 2]],\n",
       "\n",
       "        [[6, 2, 8, 8, 6],\n",
       "         [6, 5, 6, 0, 0],\n",
       "         [6, 9, 1, 8, 9],\n",
       "         [1, 2, 8, 9, 9]]]])"
      ]
     },
     "execution_count": 33,
     "metadata": {},
     "output_type": "execute_result"
    }
   ],
   "source": [
    "a4[:1,:,:,:]"
   ]
  },
  {
   "cell_type": "markdown",
   "id": "46f2be24",
   "metadata": {},
   "source": [
    "# MANIPULATING ARRays"
   ]
  },
  {
   "cell_type": "code",
   "execution_count": 34,
   "id": "a99d5952",
   "metadata": {},
   "outputs": [
    {
     "data": {
      "text/plain": [
       "array([1, 2, 3])"
      ]
     },
     "execution_count": 34,
     "metadata": {},
     "output_type": "execute_result"
    }
   ],
   "source": [
    "a1\n"
   ]
  },
  {
   "cell_type": "code",
   "execution_count": 36,
   "id": "ca773457",
   "metadata": {},
   "outputs": [
    {
     "data": {
      "text/plain": [
       "array([1., 1., 1.])"
      ]
     },
     "execution_count": 36,
     "metadata": {},
     "output_type": "execute_result"
    }
   ],
   "source": [
    "ones=np.ones(3)\n",
    "ones"
   ]
  },
  {
   "cell_type": "code",
   "execution_count": 37,
   "id": "8bc6bb4c",
   "metadata": {},
   "outputs": [
    {
     "data": {
      "text/plain": [
       "array([2., 3., 4.])"
      ]
     },
     "execution_count": 37,
     "metadata": {},
     "output_type": "execute_result"
    }
   ],
   "source": [
    "a1+ones\n"
   ]
  },
  {
   "cell_type": "code",
   "execution_count": 38,
   "id": "b983f69a",
   "metadata": {},
   "outputs": [
    {
     "data": {
      "text/plain": [
       "array([1, 2, 3])"
      ]
     },
     "execution_count": 38,
     "metadata": {},
     "output_type": "execute_result"
    }
   ],
   "source": [
    "a1"
   ]
  },
  {
   "cell_type": "code",
   "execution_count": 39,
   "id": "5ea280e1",
   "metadata": {},
   "outputs": [
    {
     "data": {
      "text/plain": [
       "array([[1, 2, 3],\n",
       "       [4, 5, 6]])"
      ]
     },
     "execution_count": 39,
     "metadata": {},
     "output_type": "execute_result"
    }
   ],
   "source": [
    "a2"
   ]
  },
  {
   "cell_type": "code",
   "execution_count": 40,
   "id": "f3b13092",
   "metadata": {},
   "outputs": [
    {
     "data": {
      "text/plain": [
       "array([[ 1,  4,  9],\n",
       "       [ 4, 10, 18]])"
      ]
     },
     "execution_count": 40,
     "metadata": {},
     "output_type": "execute_result"
    }
   ],
   "source": [
    "a1*a2\n"
   ]
  },
  {
   "cell_type": "code",
   "execution_count": null,
   "id": "be17831f",
   "metadata": {},
   "outputs": [],
   "source": []
  }
 ],
 "metadata": {
  "kernelspec": {
   "display_name": "Python 3 (ipykernel)",
   "language": "python",
   "name": "python3"
  },
  "language_info": {
   "codemirror_mode": {
    "name": "ipython",
    "version": 3
   },
   "file_extension": ".py",
   "mimetype": "text/x-python",
   "name": "python",
   "nbconvert_exporter": "python",
   "pygments_lexer": "ipython3",
   "version": "3.9.12"
  }
 },
 "nbformat": 4,
 "nbformat_minor": 5
}
